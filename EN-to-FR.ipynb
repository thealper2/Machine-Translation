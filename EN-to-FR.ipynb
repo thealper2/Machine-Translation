{
 "cells": [
  {
   "cell_type": "markdown",
   "id": "a45400c6-708f-4dfb-91b1-3e2a157f9f9f",
   "metadata": {},
   "source": [
    "# Import Required Libraries"
   ]
  },
  {
   "cell_type": "code",
   "execution_count": null,
   "id": "a3f5029b-ff16-4d52-9649-762b03a8e6b4",
   "metadata": {},
   "outputs": [],
   "source": [
    "import numpy as np\n",
    "np.random.seed(42)\n",
    "\n",
    "import pandas as pd\n",
    "pd.set_option(\"display.float_format\", lambda x: \"%.4f\" % x)\n",
    "pd.set_option(\"display.max_colwidth\", None)\n",
    "\n",
    "import string\n",
    "import re\n",
    "import nltk\n",
    "from collections import Counter\n",
    "\n",
    "import matplotlib.pyplot as plt\n",
    "import seaborn as sns\n",
    "sns.set_style(\"whitegrid\")\n",
    "\n",
    "import tensorflow as tf\n",
    "from tensorflow.keras.preprocessing.text import Tokenizer\n",
    "from tensorflow.keras.preprocessing.sequence import pad_sequences\n",
    "from tensorflow.keras.layers import Input, Dense, LSTM, Embedding, RepeatVector, TimeDistributed, Dropout\n",
    "from tensorflow.keras.models import Model, Sequential, load_model\n",
    "from tensorflow.keras.callbacks import EarlyStopping, ModelCheckpoint\n",
    "from sklearn.model_selection import train_test_split\n",
    "from tensorflow.keras.utils import to_categorical\n",
    "\n",
    "from nltk.translate.bleu_score import corpus_bleu\n",
    "\n",
    "import warnings\n",
    "warnings.filterwarnings('ignore')"
   ]
  },
  {
   "cell_type": "markdown",
   "id": "f2056df6-3dd4-4965-976b-791d14ff8dd6",
   "metadata": {},
   "source": [
    "# Load Data"
   ]
  },
  {
   "cell_type": "code",
   "execution_count": null,
   "id": "a7624119-52a0-4b12-8e2b-372029cf6fac",
   "metadata": {},
   "outputs": [],
   "source": [
    "df = pd.read_csv('/mnt/d/Datasets/eng_-french.csv', nrows=20000)\n",
    "df = df.sample(frac=1).reset_index(drop=True)\n",
    "df.head()"
   ]
  },
  {
   "cell_type": "code",
   "execution_count": null,
   "id": "251fc9d5-60bf-413a-84db-9512aa7016c6",
   "metadata": {},
   "outputs": [],
   "source": [
    "df.shape"
   ]
  },
  {
   "cell_type": "markdown",
   "id": "8181b49c-fc56-4b7e-9043-402aa826c93d",
   "metadata": {},
   "source": [
    "# EDA"
   ]
  },
  {
   "cell_type": "code",
   "execution_count": null,
   "id": "c755c8d7-82c7-4dd9-a23c-758c75e7a4ac",
   "metadata": {},
   "outputs": [],
   "source": [
    "def word_freq(data, label, title):\n",
    "    freq_df = data[[label]]\n",
    "    freq_words = freq_df[label].values\n",
    "    freq_words = [i.lower() for i in freq_words]\n",
    "    freq_punc = []\n",
    "\n",
    "    for o in freq_words:\n",
    "        freq_punc += nltk.word_tokenize(o)\n",
    "\n",
    "    freq_punc = [o for o in freq_punc if o not in string.punctuation]\n",
    "    freq_freq = Counter(freq_punc)\n",
    "\n",
    "    freq_top = freq_freq.most_common(50)\n",
    "\n",
    "    words = [word for word, _ in freq_top]\n",
    "    counts = [count for _, count in freq_top]\n",
    "\n",
    "    plt.figure(figsize=(15, 25))\n",
    "    plt.barh(words, counts)\n",
    "    plt.title(title)\n",
    "    plt.xlabel(\"Frequency\")\n",
    "    plt.ylabel(\"Words\")\n",
    "\n",
    "    return freq_top"
   ]
  },
  {
   "cell_type": "code",
   "execution_count": null,
   "id": "b3818cb2-a996-4f83-9e2c-1d64293d08db",
   "metadata": {},
   "outputs": [],
   "source": [
    "en_freq_top = word_freq(df, \"English words/sentences\", \"English Top 50 Words - Before Cleaning\")"
   ]
  },
  {
   "cell_type": "code",
   "execution_count": null,
   "id": "53074f33-1d74-4e31-a5ea-8433d548897a",
   "metadata": {},
   "outputs": [],
   "source": [
    "fr_freq_top = word_freq(df, \"French words/sentences\", \"French Top 50 Words - Before Cleaning\")"
   ]
  },
  {
   "cell_type": "markdown",
   "id": "6710c114-2f20-4548-b4eb-eb8af0b6f6da",
   "metadata": {},
   "source": [
    "# Preprocess"
   ]
  },
  {
   "cell_type": "code",
   "execution_count": null,
   "id": "d2726e09-d2a0-4c31-a37c-d006f473b55d",
   "metadata": {},
   "outputs": [],
   "source": [
    "def clean_text(text):\n",
    "    text = text.replace(\"\\u202f\", \" \")\n",
    "    text = text.lower()\n",
    "    text = re.sub(r\"\\d\", \"\", text)\n",
    "    text = text.translate(str.maketrans(\"\", \"\", string.punctuation))\n",
    "    text = text.strip()\n",
    "    return text"
   ]
  },
  {
   "cell_type": "code",
   "execution_count": null,
   "id": "f5d99e96-bdd6-43de-b139-17e5bde9253e",
   "metadata": {},
   "outputs": [],
   "source": [
    "df[\"English words/sentences\"] = df[\"English words/sentences\"].apply(clean_text)\n",
    "df[\"French words/sentences\"] = df[\"French words/sentences\"].apply(clean_text)"
   ]
  },
  {
   "cell_type": "code",
   "execution_count": null,
   "id": "81734dc0-70db-419e-ab8d-db0ef5aadd5b",
   "metadata": {},
   "outputs": [],
   "source": [
    "data_array = df.values"
   ]
  },
  {
   "cell_type": "code",
   "execution_count": null,
   "id": "777f7431-1313-4371-a319-92458fdcc485",
   "metadata": {},
   "outputs": [],
   "source": [
    "train_size = int(0.9 * len(data_array))"
   ]
  },
  {
   "cell_type": "code",
   "execution_count": null,
   "id": "e74a68e5-17eb-454d-9c8f-ef44cde20559",
   "metadata": {},
   "outputs": [],
   "source": [
    "train_data = data_array[:train_size]\n",
    "test_data = data_array[train_size:]"
   ]
  },
  {
   "cell_type": "code",
   "execution_count": null,
   "id": "0f1fc321-ee38-4b6b-8a48-0720196229b1",
   "metadata": {},
   "outputs": [],
   "source": [
    "idx_en = 0\n",
    "idx_fr = 1"
   ]
  },
  {
   "cell_type": "code",
   "execution_count": null,
   "id": "02e5b9a1-1cf2-4863-8aec-527e98499d85",
   "metadata": {},
   "outputs": [],
   "source": [
    "en_tokenizer = Tokenizer()\n",
    "en_tokenizer.fit_on_texts(data_array[:, idx_en])\n",
    "en_vocab_size = len(en_tokenizer.word_index) + 1\n",
    "en_maxlen = max(len(data.split()) for data in data_array[:, idx_en])\n",
    "\n",
    "print(\"English Vocabulary Size:\", en_vocab_size)\n",
    "print(\"English Max Length:\", en_maxlen)"
   ]
  },
  {
   "cell_type": "code",
   "execution_count": null,
   "id": "729d64d6-b9a7-403d-824f-ce12841f3965",
   "metadata": {},
   "outputs": [],
   "source": [
    "fr_tokenizer = Tokenizer()\n",
    "fr_tokenizer.fit_on_texts(data_array[:, idx_fr])\n",
    "fr_vocab_size = len(fr_tokenizer.word_index) + 1\n",
    "fr_maxlen = max(len(data.split()) for data in data_array[:, idx_fr])\n",
    "\n",
    "print(\"French Vocabulary Size:\", fr_vocab_size)\n",
    "print(\"French Max Length:\", fr_maxlen)"
   ]
  },
  {
   "cell_type": "code",
   "execution_count": null,
   "id": "ff3b47b0-f85b-4a42-ba03-c946ca5595a7",
   "metadata": {},
   "outputs": [],
   "source": [
    "X_train = en_tokenizer.texts_to_sequences(train_data[:, idx_en])\n",
    "X_train = pad_sequences(X_train, maxlen=en_maxlen, padding='post')"
   ]
  },
  {
   "cell_type": "code",
   "execution_count": null,
   "id": "2889436c-70f3-4f4c-9778-7d2839466610",
   "metadata": {},
   "outputs": [],
   "source": [
    "y_train = fr_tokenizer.texts_to_sequences(train_data[:, idx_fr])\n",
    "y_train = pad_sequences(y_train, maxlen=fr_maxlen, padding='post')\n",
    "y_train = np.array([to_categorical(seq, num_classes=fr_vocab_size) for seq in y_train])"
   ]
  },
  {
   "cell_type": "code",
   "execution_count": null,
   "id": "2206c997-1eac-488f-a675-cfdd2e16c71a",
   "metadata": {},
   "outputs": [],
   "source": [
    "X_test = en_tokenizer.texts_to_sequences(test_data[:, idx_en])\n",
    "X_test = pad_sequences(X_test, maxlen=en_maxlen, padding='post')"
   ]
  },
  {
   "cell_type": "code",
   "execution_count": null,
   "id": "7d43e660-ee8f-4101-9cb6-306c001a1641",
   "metadata": {
    "scrolled": true
   },
   "outputs": [],
   "source": [
    "y_test = fr_tokenizer.texts_to_sequences(test_data[:, idx_fr])\n",
    "y_test = pad_sequences(y_test, maxlen=fr_maxlen, padding='post')\n",
    "y_test = np.array([to_categorical(seq, num_classes=fr_vocab_size) for seq in y_test])"
   ]
  },
  {
   "cell_type": "markdown",
   "id": "34f89ae3-18a6-42a7-a680-ffd5d3082a46",
   "metadata": {},
   "source": [
    "# Model"
   ]
  },
  {
   "cell_type": "code",
   "execution_count": null,
   "id": "66ebbec7-09c8-4a07-abf8-09e42c2f5e74",
   "metadata": {},
   "outputs": [],
   "source": [
    "model = Sequential()\n",
    "model.add(Embedding(en_vocab_size, 512, input_length=en_maxlen, mask_zero=True))\n",
    "model.add(LSTM(256))\n",
    "model.add(RepeatVector(fr_maxlen))\n",
    "model.add(LSTM(256, return_sequences=True))\n",
    "model.add(TimeDistributed(Dense(512, activation='relu')))\n",
    "model.add(Dropout(0.2))\n",
    "model.add(TimeDistributed(Dense(fr_vocab_size, activation='softmax')))"
   ]
  },
  {
   "cell_type": "code",
   "execution_count": null,
   "id": "f4316423-807c-494f-acd1-35fc587e2c58",
   "metadata": {},
   "outputs": [],
   "source": [
    "model.compile(optimizer='adam', loss='categorical_crossentropy')"
   ]
  },
  {
   "cell_type": "code",
   "execution_count": null,
   "id": "387dd7a7-f37a-49e0-a006-bdc83ea477c1",
   "metadata": {},
   "outputs": [],
   "source": [
    "early_stopping = EarlyStopping(monitor=\"val_loss\", patience=5)\n",
    "checkpoint = ModelCheckpoint(filepath=f'en_to_fr.h5', monitor='val_loss', verbose=0, save_best_only=True, mode='min')"
   ]
  },
  {
   "cell_type": "code",
   "execution_count": null,
   "id": "34330590-2070-478c-a58f-4b2f68775132",
   "metadata": {},
   "outputs": [],
   "source": [
    "history = model.fit(\n",
    "    X_train, y_train, \n",
    "    epochs=100, \n",
    "    batch_size=64, \n",
    "    validation_split=0.1, \n",
    "    callbacks=[early_stopping, checkpoint]\n",
    ")"
   ]
  },
  {
   "cell_type": "code",
   "execution_count": null,
   "id": "0484cd84-e62a-4430-8af2-a475a6e6643a",
   "metadata": {},
   "outputs": [],
   "source": [
    "history_df = pd.DataFrame(history.history)\n",
    "history_df.head()"
   ]
  },
  {
   "cell_type": "code",
   "execution_count": null,
   "id": "f2c659fb-9454-4fe9-9293-957bdfd59f95",
   "metadata": {},
   "outputs": [],
   "source": [
    "plt.plot(history_df[\"loss\"])\n",
    "plt.plot(history_df[\"val_loss\"])\n",
    "plt.title(\"Loss\")\n",
    "plt.legend([\"loss\", \"val_loss\"])\n",
    "plt.show()"
   ]
  },
  {
   "cell_type": "code",
   "execution_count": null,
   "id": "848b9f99-38fb-4126-aa25-6403d39076d5",
   "metadata": {},
   "outputs": [],
   "source": [
    "model = load_model(\"en_to_fr.h5\")"
   ]
  },
  {
   "cell_type": "markdown",
   "id": "5c9f0e10-6dcc-4136-bf47-f0d3b59671cb",
   "metadata": {},
   "source": [
    "# Translate"
   ]
  },
  {
   "cell_type": "code",
   "execution_count": null,
   "id": "7ef406e9-0cbb-4d59-a963-3f0230b4c0be",
   "metadata": {},
   "outputs": [],
   "source": [
    "def translate(text):\n",
    "    text = en_tokenizer.texts_to_sequences([text])\n",
    "    text = pad_sequences(text, maxlen=en_maxlen, padding='post')\n",
    "    prediction = model.predict(text, verbose=0)[0]\n",
    "    integers = [np.argmax(preds) for preds in prediction]\n",
    "    target = [fr_tokenizer.index_word.get(integer, None) for integer in integers]\n",
    "    translated = ' '.join([t for t in target if t != None])\n",
    "    return translated"
   ]
  },
  {
   "cell_type": "code",
   "execution_count": null,
   "id": "7214b5a8-2542-421c-92c6-d3dac320b925",
   "metadata": {},
   "outputs": [],
   "source": [
    "translate('i snore')"
   ]
  },
  {
   "cell_type": "code",
   "execution_count": null,
   "id": "77ad7bb6-474a-4a85-894f-776403021b84",
   "metadata": {},
   "outputs": [],
   "source": [
    "raw, actual_results, predicted_results = [], [], []\n",
    "bleu_scores = []\n",
    "for i, text in enumerate(X_test):\n",
    "    text = text.reshape((1, text.shape[0]))\n",
    "    prediction = model.predict(text, verbose=0)[0]\n",
    "    integers = [np.argmax(preds) for preds in prediction]\n",
    "    target = [fr_tokenizer.index_word.get(integer, None) for integer in integers]\n",
    "    translated = ' '.join([t for t in target if t != None])\n",
    "    predicted_results.append(translated)\n",
    "    actual_results.append(test_data[i, idx_fr])\n",
    "    raw.append(test_data[i, idx_en])\n",
    "    bleu_scores.append(corpus_bleu([test_data[i, idx_fr].split()], [translated.split()],  weights=(1.0, 0, 0, 0)))"
   ]
  },
  {
   "cell_type": "markdown",
   "id": "9b43dd33-0b44-41e6-a775-2c11955961e1",
   "metadata": {},
   "source": [
    "# Results"
   ]
  },
  {
   "cell_type": "code",
   "execution_count": null,
   "id": "2af456a8-eff1-4670-a743-a20f323969da",
   "metadata": {},
   "outputs": [],
   "source": [
    "result_df = pd.DataFrame({\n",
    "    \"English\": raw,\n",
    "    \"French (Actual)\": actual_results,\n",
    "    \"French (Predicted)\": predicted_results,\n",
    "    \"BLEU\": bleu_scores,\n",
    "})"
   ]
  },
  {
   "cell_type": "code",
   "execution_count": null,
   "id": "02db359e-4337-4679-a6dd-21c6d036ebca",
   "metadata": {},
   "outputs": [],
   "source": [
    "result_df.sample(5)"
   ]
  },
  {
   "cell_type": "code",
   "execution_count": null,
   "id": "3687c458-249b-4edd-8ad9-1e4fb74e053e",
   "metadata": {},
   "outputs": [],
   "source": []
  }
 ],
 "metadata": {
  "kernelspec": {
   "display_name": "Python 3 (ipykernel)",
   "language": "python",
   "name": "python3"
  },
  "language_info": {
   "codemirror_mode": {
    "name": "ipython",
    "version": 3
   },
   "file_extension": ".py",
   "mimetype": "text/x-python",
   "name": "python",
   "nbconvert_exporter": "python",
   "pygments_lexer": "ipython3",
   "version": "3.10.12"
  }
 },
 "nbformat": 4,
 "nbformat_minor": 5
}
